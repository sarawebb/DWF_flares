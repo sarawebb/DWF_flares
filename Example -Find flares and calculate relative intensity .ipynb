{
 "cells": [
  {
   "cell_type": "code",
   "execution_count": 38,
   "metadata": {},
   "outputs": [],
   "source": [
    "import numpy as np \n",
    "import os \n",
    "import matplotlib.pyplot as plt \n",
    "from astropy.table import Table, Column, join \n",
    "from scipy.interpolate import UnivariateSpline\n",
    "from scipy.interpolate import interp1d\n",
    "import scipy\n",
    "from collections import Counter\n",
    "from os.path import expanduser\n",
    "import time\n",
    "import datetime\n",
    "import pandas as pd\n",
    "from scipy import stats\n",
    "from scipy.optimize import curve_fit\n",
    "from scipy.signal import wiener\n",
    "from scipy import signal\n",
    "from astropy.io import fits\n",
    "import glob\n",
    "from scipy.signal import savgol_filter\n",
    "from astropy.io import ascii \n",
    "from numpy.polynomial import Polynomial\n",
    "from scipy.interpolate import splrep, sproot, splev\n",
    "#from matplotlib import rc\n",
    "#rc('font', **{'family':'serif','serif':['Palatino']})\n",
    "#rc('text', usetex=True)\n",
    "from sortedcontainers import SortedDict"
   ]
  },
  {
   "cell_type": "code",
   "execution_count": 39,
   "metadata": {},
   "outputs": [],
   "source": [
    "#####################################################\n",
    "############### FIND flare funcation  ###############\n",
    "#####################################################\n",
    "def FINDflare(flux, error, mjd_array,  N1=6, N2=1, N3=1, avg_std = False, std_window=7): \n",
    "\n",
    "    '''\n",
    "    The algorithm for local changes due to flares defined by\n",
    "    S. W. Chang et al. (2015), Eqn. 3a-d\n",
    "    http://arxiv.org/abs/1510.01005\n",
    " \n",
    "    Adpated code from jradavenport's appalossa for kepler flares. Adpated for DWF data with high \n",
    "    cadence and upperlimits for deep detections. \n",
    "    \n",
    "    Parametres: \n",
    "    ---------------------------------------------------------------------------------------------\n",
    "    flux:   numpy array\n",
    "            data to search over\n",
    "    error:\tnumpy array\n",
    "            errors to corresponding data \n",
    "    N1: \tint, optional \n",
    "            Coefficient from original paper - default is 3\n",
    "            How many times above thes stddev is requried.\n",
    "    N2: \tint, optional \n",
    "            Coefficient from original paper - default is 1 \n",
    "            How many times above the stddev and uncertanity is required \n",
    "            NOTE: May need to be tweaked to work with fainted magnitudes with higher uncerts. \n",
    "    N3: \tint, optional \n",
    "            coefficient form the original paper - default is 3 \n",
    "            The number of consecutive points required to flare as a flare \n",
    "            NOTE: 2-3 is a reasonable number for DWF \n",
    "    avg_std: bool, optional \n",
    "            Should the sigma in this data be computed by the median of the rolling().std? (default is false)\n",
    "\n",
    "    std_window: float, optional\n",
    "                if avg_std = True, how big of a window should it use? \n",
    "                Default is 25 data points. \n",
    "                NOTE: DWF data may not have 25 data points for all detections. \n",
    "\n",
    "    Returns: \n",
    "    ---------------------------------------------------------------------------------------------\n",
    "    '''\n",
    "\n",
    "    #Find the Median value of the flux of the flare. IMPORTANT make sure that the flux is for ONE night ONLY for DWF \n",
    "    med_i = np.nanmedian(flux)\n",
    "    #print(flux)\n",
    "    #print('The median magnitude over lightcurve =' + str(med_i))\n",
    "\n",
    "    if avg_std is False: \n",
    "        sig_i = np.nanstd(flux)  \n",
    "        print('The standard deviation over the flux = : ' + str(sig_i))#the staddev of the window \n",
    "    else: \n",
    "        sig_i = np.nanmedian(pd.Series(flux).rolling(std_window).std())\n",
    "    ca = flux - med_i\n",
    "\n",
    "    cb = np.abs(flux-med_i)/sig_i \n",
    "    cc = np.abs(flux - med_i - error) / sig_i \n",
    "\n",
    "    ## Apply the cuts from eqn 3a-c\n",
    "    #### because our flux's are\n",
    "    ctmp = np.where((ca < 0) & (cb > N1) & (cc > N2))\n",
    "    #ctmp = np.where((cb > N1))\n",
    "    cindx = np.zeros_like(flux)\n",
    "    cindx[ctmp] = 1 \n",
    "    #print(cindx) \n",
    "    \n",
    "\n",
    "    # need to find cumulative number of points that pass ctmp \n",
    "    # Count in reverse \n",
    "    \n",
    "    ConM = np.zeros_like(flux)\n",
    "    # this requires a full pass thrus the data -> bottleneck \n",
    "    for k in range(2, len(flux)):\n",
    "        ConM[-k]= cindx[-k]*(ConM[-(k-1)] + cindx[-k] )\n",
    "    \n",
    "    #print('Flare event detected in array at points, descending count from start point to finish point: ' + str(ConM))\n",
    "\n",
    "    #these only defined between dl[i] and dr[i] \n",
    "    # find flare start where values in ConM switch from 0 to >=N3 \n",
    "    istart_i = np.where((ConM[1:] >= N3)& (ConM[0:-1] - ConM[1:] <0))[0] +1 \n",
    "    print('Flare begins on point: ' + str(istart_i))\n",
    "    #print( istart_i)\n",
    "    #Use the value of ConM to determine how many points away stop is \n",
    "\n",
    "    istop_i = istart_i + (ConM[istart_i] -1)\n",
    "    istart_i = np.array(istart_i, dtype = 'int') \n",
    "    istop_i = np.array(istop_i, dtype = 'int') \n",
    "    print('Flare stops on point: ' + str(istop_i))\n",
    "    \n",
    "    \n",
    "    min_day = np.min(mjd_array)\n",
    "    sum_of_points = np.sum(ConM)\n",
    "    #print('sum of ConM : ' + str(sum_of_points))\n",
    "    \n",
    "    return istart_i, istop_i, sum_of_points, "
   ]
  },
  {
   "cell_type": "code",
   "execution_count": 40,
   "metadata": {},
   "outputs": [],
   "source": [
    "#####################################################\n",
    "####### Error bar filled plot funcation  ############\n",
    "#####################################################\n",
    "def errorfill(x, y, yerr, color=None, alpha_fill=0.2, ax=None, Label1=None, Label2=None):\n",
    "    ax = ax if ax is not None else plt.gca()\n",
    "    if color is None:\n",
    "        color = ax._get_lines.color_cycle.next()\n",
    "    if np.isscalar(yerr) or len(yerr) == len(y):\n",
    "        ymin = y - yerr\n",
    "        ymax = y + yerr\n",
    "    elif len(yerr) == 2:\n",
    "        ymin, ymax = yerr\n",
    "    ax.fill_between(x, ymax, ymin, color=color, alpha=alpha_fill, label = str(Label2))\n",
    "    "
   ]
  },
  {
   "cell_type": "code",
   "execution_count": 41,
   "metadata": {},
   "outputs": [],
   "source": [
    "###################################\n",
    "####### FWHM Funcation ############\n",
    "###################################\n",
    "def fwhm(x, y, k=5):\n",
    "    \"\"\"\n",
    "    Determine full-with-half-maximum of a peaked set of points, x and y.\n",
    "\n",
    "    Assumes that there is only one peak present in the datasset.  The function\n",
    "    uses a spline interpolation of order k.\n",
    "    \"\"\"\n",
    "\n",
    "    half_max = np.max(y)/2.0\n",
    "    print(half_max)\n",
    "    newy = y - half_max\n",
    "    plt.plot(x, newy)\n",
    "    s = splrep(x, y - half_max, k=k)\n",
    "    roots = sproot(s)\n",
    "    print(roots)\n",
    "    if len(roots) > 2:\n",
    "        raise MultiplePeaks(\"The dataset appears to have multiple peaks, and \"\n",
    "                \"thus the FWHM can't be determined.\")\n",
    "    elif len(roots) < 2:\n",
    "        raise NoPeaksFound(\"No proper peaks were found in the data set; likely \"\n",
    "                \"the dataset is flat (e.g. all zeros).\")\n",
    "    else:\n",
    "        return roots[0], roots[1]"
   ]
  },
  {
   "cell_type": "markdown",
   "metadata": {},
   "source": [
    "# Step 1: Make sure your light curve is in time series order \n",
    " Resave file with same file name so it only need to be done once as a precaution \n"
   ]
  },
  {
   "cell_type": "code",
   "execution_count": 42,
   "metadata": {},
   "outputs": [
    {
     "name": "stdout",
     "output_type": "stream",
     "text": [
      "/Volumes/SaraWSSD/gaia_500pc_searches/flares/ascii_files/2018_Dusty10/DWF040239.269-545106.763_150116\n",
      "     mjd              mag                 emag               ulim       \n",
      "-------------- ------------------ ------------------- ------------------\n",
      "57374.20037983                0.0                 0.0 22.190732136555297\n",
      "57374.20094389                0.0                 0.0 22.395380748643806\n",
      "57374.20150237                0.0                 0.0 22.213165830862497\n",
      "57374.20205536                0.0                 0.0 22.201854134715052\n",
      "57374.20259987                0.0                 0.0 22.162902064012865\n",
      "57374.20314443                0.0                 0.0  22.18348130735643\n",
      "57374.20369541                0.0                 0.0 22.224478118988873\n",
      "57374.20425221                0.0                 0.0 22.191057873774348\n",
      "57374.20480231  22.67300033569336 0.20499999821186066                0.0\n",
      "57374.20535961                0.0                 0.0  22.43182028905287\n",
      "           ...                ...                 ...                ...\n",
      "57374.22380451  22.31599998474121 0.17599999904632568                0.0\n",
      "57374.22435873 22.714000701904297 0.21400000154972076                0.0\n",
      "57374.22491885  22.37700080871582 0.18400000035762787                0.0\n",
      "57374.22547047                0.0                 0.0  22.19723547737953\n",
      "57374.22602696                0.0                 0.0  22.19407859679926\n",
      " 57374.2265852                0.0                 0.0  22.17970383160103\n",
      "57374.22713745                0.0                 0.0  22.19523075218116\n",
      " 57374.2276989                0.0                 0.0 22.199371440560203\n",
      "57374.22824965                0.0                 0.0  22.17827873421087\n",
      "57374.22883064                0.0                 0.0 22.199706822581483\n",
      "57374.22938751                0.0                 0.0  22.20242556478909\n",
      "Length = 53 rows\n"
     ]
    }
   ],
   "source": [
    "filename = \"DWF040239.269-545106.763_150116\"\n",
    "path = '/Volumes/SaraWSSD/gaia_500pc_searches/flares/ascii_files/2018_Dusty10/'+filename\n",
    "print(path)\n",
    "mjd, mag, emag, ulim = np.loadtxt(path, unpack =True, skiprows=1)\n",
    "mydict = SortedDict()\n",
    "for j in range(len(mag)):\n",
    "    mydict[mjd[j]] = mjd[j], mag[j],emag[j], ulim[j] \n",
    "\n",
    "mjd_sorted = []\n",
    "mag_sorted = []\n",
    "emag_sorted = []\n",
    "ulim_sorted = []\n",
    "\n",
    "for key, values in mydict.items():\n",
    "    mjd_sorted.append(values[0])\n",
    "    mag_sorted.append(values[1])\n",
    "    emag_sorted.append(values[2])\n",
    "    ulim_sorted.append(values[3])\n",
    "\n",
    "info = Table()\n",
    "info['mjd'] = mjd_sorted\n",
    "info['mag'] = mag_sorted\n",
    "info['emag'] = emag_sorted\n",
    "info['ulim'] = ulim_sorted\n",
    "print(info)\n",
    "output = path\n",
    "info.write(output, format='ascii', overwrite = True)"
   ]
  },
  {
   "cell_type": "code",
   "execution_count": null,
   "metadata": {},
   "outputs": [],
   "source": []
  },
  {
   "cell_type": "markdown",
   "metadata": {},
   "source": [
    "# Step 2: Look at flare in detail using FINDflare\n"
   ]
  },
  {
   "cell_type": "code",
   "execution_count": 43,
   "metadata": {},
   "outputs": [
    {
     "name": "stdout",
     "output_type": "stream",
     "text": [
      "Flare begins on point: [66]\n",
      "Flare stops on point: [118]\n",
      "Median Mag: 15.710999965667725\n",
      "Median eMag: 0.0020000000949949026\n",
      "STD of mags: 0.01224042356662331\n",
      "Change in mag: 0.4850001335144043\n",
      "flare time (sec): 2584.01404756587\n",
      "DWF080943.768-775051.105_180606\n"
     ]
    },
    {
     "data": {
      "text/plain": [
       "Text(0.5, 1.0, 'DWF080943.768-775051.105_180606')"
      ]
     },
     "execution_count": 43,
     "metadata": {},
     "output_type": "execute_result"
    },
    {
     "data": {
      "image/png": "[encoded data removed]",
      "text/plain": [
       "<Figure size 720x576 with 1 Axes>"
      ]
     },
     "metadata": {},
     "output_type": "display_data"
    }
   ],
   "source": [
    "######################################################################\n",
    "####### select either orignal file or twice the distance light curve \n",
    "######################################################################\n",
    "\n",
    "### FOR Double the distance ###\n",
    "#filename = \"DWF080943.768-775051.105_180606\" + \"_twice_distance.ascii\"\n",
    "#path = '/Volumes/SaraWSSD/gaia_500pc_searches/flare_sample_full/flares_double_distance_away/'+filename\n",
    "#mjd, mag, emag = np.loadtxt(path, unpack =True, skiprows=1)\n",
    "### FOR Double the distance ###\n",
    "\n",
    "### FOR original LC ###\n",
    "filename = 'DWF080943.768-775051.105_180606'\n",
    "path = '/Volumes/SaraWSSD/gaia_500pc_searches/flare_sample_full/lc_file/'+filename\n",
    "mjd, mag, emag, ulim = np.loadtxt(path, unpack =True, skiprows=1)\n",
    "### FOR original LC ###\n",
    "\n",
    "\n",
    "clean_mag = []\n",
    "clean_emag = []\n",
    "clean_mjd = []\n",
    "\n",
    "for i, j,z in zip(mjd ,mag, emag):\n",
    "    if j != 0:\n",
    "        clean_mag.append(j)\n",
    "        clean_emag.append(z)\n",
    "        clean_mjd.append(i)\n",
    "\n",
    "mjd_sec = []\n",
    "for i in clean_mjd:\n",
    "    new = ((i-min(mjd))*24)*60*60\n",
    "    mjd_sec.append(new)\n",
    "\n",
    "upperlim_mjd_sec = []\n",
    "upperlim_mag_sec = []\n",
    "for i, j in zip(mjd ,ulim):\n",
    "    if j != 0:\n",
    "        new = ((i-min(mjd))*24)*60*60\n",
    "        upperlim_mjd_sec.append(new)\n",
    "        upperlim_mag_sec.append(j)\n",
    "\n",
    "        \n",
    "### Run lightcurve through FINDflare ###        \n",
    "istart_i, istop_i, sum_of_points = FINDflare(clean_mag, clean_emag, clean_mjd,  N1=3, N2=2, N3=2, avg_std = True, std_window=3)\n",
    "\n",
    "\n",
    "##############################################################\n",
    "####### Leave as below for single flares, need \n",
    "####### Change for flares with multiple peaks, or flares in a single lightcurve\n",
    "##############################################################\n",
    "flare_number = 0\n",
    "flare_end_num =1\n",
    "# if you want to caluclate the median magnitude before or after the flare event\n",
    "before_after = 'before'\n",
    "##############################################################\n",
    "\n",
    "\n",
    "plt.figure(figsize=(10, 8))\n",
    "flare = istart_i[flare_number] \n",
    "flare_stop =  istop_i[flare_number]+flare_end_num\n",
    "\n",
    "if before_after == 'before':\n",
    "    med_mag = np.median(clean_mag[:flare])\n",
    "    med_emag = np.median(clean_emag[:flare])\n",
    "elif  before_after == 'after':\n",
    "    med_mag = np.median(clean_mag[flare_stop:])\n",
    "    med_emag = np.median(clean_emag[flare_stop:])\n",
    "    \n",
    "medians = []\n",
    "for x in clean_mag:\n",
    "    medians.append(med_mag)\n",
    "mean = np.mean(clean_mag)\n",
    "\n",
    "means = []\n",
    "for x in clean_mag:\n",
    "    means.append(mean)\n",
    "\n",
    "if before_after == 'before':\n",
    "    std = np.std(clean_mag[:flare])\n",
    "elif  before_after == 'after':\n",
    "    std = np.std(clean_mag[flare_stop:])\n",
    "\n",
    "print('Median Mag: '+ str(med_mag))\n",
    "print('Median eMag: '+ str(med_emag))\n",
    "print('STD of mags: '+ str( std))\n",
    "\n",
    "peak_mag = min(clean_mag)\n",
    "mag_change = med_mag - peak_mag\n",
    "print('Change in mag: ' + str(mag_change))\n",
    "peak_idx = flare\n",
    "peak_mag = clean_mag[peak_idx]\n",
    "peak_mag_mjd = mjd_sec[peak_idx]\n",
    "\n",
    "flare_begin_mjd = mjd_sec[peak_idx]\n",
    "flare_begin_mag = clean_mag[peak_idx]\n",
    "flare_end_mjd = mjd_sec[flare_stop]\n",
    "flare_end_mag = clean_mag[flare_stop]\n",
    "flare_mjd = mjd_sec[peak_idx-1:flare_stop]\n",
    "flare_mag = clean_mag[peak_idx-1:flare_stop]\n",
    "flare_time = flare_end_mjd -flare_begin_mjd\n",
    "print('flare time (sec): ' + str(flare_time))\n",
    "\n",
    "\n",
    "plt.errorbar(mjd_sec, clean_mag, yerr=clean_emag, fmt='.-', alpha=0.2)\n",
    "#plt.plot(upperlim_mjd_sec, upperlim_mag_sec, '^r', alpha=0.5)\n",
    "plt.plot(flare_mjd,flare_mag,'b+--', label = \"$\\Delta$M: \" + str(round(mag_change,2)))\n",
    "plt.plot(mjd_sec,medians , 'g', label='Median Mag '+str(round(med_mag, 2)))\n",
    "plt.plot(mjd_sec,medians + std , 'r',  alpha=0.2,label='Median Mag +/- Std ' )\n",
    "plt.plot(mjd_sec,medians -std , 'r', alpha=0.2)\n",
    "\n",
    "plt.xlabel('Seconds')\n",
    "plt.ylabel('g band Magnitude')\n",
    "print(filename)\n",
    "#plt.plot(peak_mag_mjd, peak_mag, 'b', )\n",
    "plt.gca().invert_yaxis()\n",
    "#plt.legend(bbox_to_anchor=(0.0,1))\n",
    "plt.legend()\n",
    "plt.title(filename)\n",
    "###################### If you want to save image ################\n",
    "#plt.savefig('/Volumes/SaraWSSD/gaia_500pc_searches/flare_sample_full/plots_double_distance/'+filename+'_flareplot_'+str(flare_number)+'.png')\n",
    "#plt.savefig('/Volumes/SaraWSSD/gaia_100pc_searches/flare_sample_full_flares/flare_plots/'+filename+'_flareplot_'+str(flare_number)+'.png')"
   ]
  },
  {
   "cell_type": "markdown",
   "metadata": {},
   "source": [
    "# Step 3: Calculate realative intensity for all points"
   ]
  },
  {
   "cell_type": "code",
   "execution_count": 44,
   "metadata": {},
   "outputs": [
    {
     "data": {
      "image/png": "[encoded data removed]",
      "text/plain": [
       "<Figure size 432x288 with 1 Axes>"
      ]
     },
     "metadata": {},
     "output_type": "display_data"
    }
   ],
   "source": [
    "int_point = []\n",
    "int_error = []\n",
    "for i, j in zip(clean_mag, clean_emag):\n",
    "    deltam = i - med_mag\n",
    "    ints= 10**(deltam/(-2.5))\n",
    "    int_point.append(ints)\n",
    "    deltam_error = med_mag -j\n",
    "    #print(deltam_error)\n",
    "    ints_error = 10**(deltam_error/(-2.5))\n",
    "    #print(ints_error)\n",
    "    int_error.append(ints_error)\n",
    "\n",
    "int_point_zero = []\n",
    "for i in int_point:\n",
    "    int_point_zero.append(i-1)\n",
    "plt.errorbar(mjd_sec,int_point_zero, yerr=int_error, marker='.')\n",
    "\n",
    "info = Table()\n",
    "info['mjd'] = mjd_sec\n",
    "info['intensity_norm_to_one'] = int_point\n",
    "info['intensity_norm_to_zero'] = int_point_zero\n",
    "\n",
    "## Save file ## \n",
    "#output = '/Volumes/SaraWSSD/gaia_500pc_searches/flare_sample_full/int_lc_file/'+filename+ '_rel_intensity.ascii'\n",
    "#print(output)\n",
    "#info.write(output, format='ascii', overwrite = True)"
   ]
  },
  {
   "cell_type": "markdown",
   "metadata": {
    "scrolled": false
   },
   "source": [
    "# Step 4: Calculate total rel intensity "
   ]
  },
  {
   "cell_type": "code",
   "execution_count": 45,
   "metadata": {},
   "outputs": [
    {
     "name": "stdout",
     "output_type": "stream",
     "text": [
      "Flare begins on point: [20]\n",
      "Flare stops on point: [21]\n",
      "[1.00184451 1.03752747 1.0289637  1.00554198]\n",
      "DWF103337.011-350837.054_170203\n",
      "Total flare output normalised 1: 4.073877664767897\n",
      "Total flare output normalised 0: 0.07387766476789714\n"
     ]
    },
    {
     "data": {
      "image/png": "[encoded data removed]",
      "text/plain": [
       "<Figure size 432x288 with 1 Axes>"
      ]
     },
     "metadata": {},
     "output_type": "display_data"
    }
   ],
   "source": [
    "filename = 'DWF103337.011-350837.054_170203'\n",
    "name = filename\n",
    "filename_int = name+'_rel_intensity.ascii'\n",
    "path = '/Volumes/SaraWSSD/gaia_500pc_searches/flare_sample_full/int_lc_file/'+filename_int\n",
    "mjd_secs, rel_flux = np.loadtxt(path, unpack =True, skiprows=1)\n",
    "#rel_flux_err\n",
    "filename = name\n",
    "path = '/Volumes/SaraWSSD/gaia_500pc_searches/flare_sample_full/lc_file/'+filename\n",
    "mjd, mag, emag, uplim = np.loadtxt(path, unpack =True, skiprows=1)\n",
    "\n",
    "clean_mag = []\n",
    "clean_emag = []\n",
    "clean_mjd = []\n",
    "\n",
    "for i, j,z in zip(mjd ,mag, emag):\n",
    "    if j != 0:\n",
    "        clean_mag.append(j)\n",
    "        clean_emag.append(z)\n",
    "        clean_mjd.append(i)\n",
    "\n",
    "#istart_i, istop_i, sum_of_points = FINDflare(mag, emag, mjd,  N1=1, N2=0, N3=0, avg_std = True, std_window=3)\n",
    "istart_i, istop_i, sum_of_points = FINDflare(clean_mag, clean_emag, clean_mjd,  N1=3, N2=2, N3=2, avg_std = True, std_window=3)\n",
    "#istart_i, istop_i, sum_of_points = FINDflare(mag, emag, mjd,  N1=3, N2=0, N3=0, avg_std = True, std_window=3)\n",
    "\n",
    "flare = istart_i[0]-1\n",
    "flare_stop =  istop_i[0]+2\n",
    "peak_idx = flare\n",
    "\n",
    "flare_time = mjd_secs[peak_idx:flare_stop]\n",
    "flare_rel = rel_flux[peak_idx:flare_stop]\n",
    "#flare_rel_err = rel_flux_err[peak_idx:flare_stop]\n",
    "print(flare_rel)\n",
    "#flare_time = mjd_secs[-3:len(mjd_secs)]\n",
    "#flare_rel = rel_flux[-3:len(mjd_secs)]\n",
    "plt.plot(mjd_secs, rel_flux, 'b+--')\n",
    "plt.plot(flare_time, flare_rel, 'r.' )\n",
    "#plt.ylim(0.9, 1.2)\n",
    "print(filename)\n",
    "\n",
    "zero_rel = flare_rel-1\n",
    "#zero_rel_err = flare_rel_err\n",
    "print('Total flare output normalised 1: ' +str(sum(flare_rel)))\n",
    "print('Total flare output normalised 0: ' +str(sum(zero_rel)))\n",
    "#print('Total flare output error normalised 0: ' +str(sum(zero_rel_err)))"
   ]
  },
  {
   "cell_type": "code",
   "execution_count": null,
   "metadata": {
    "scrolled": true
   },
   "outputs": [],
   "source": []
  },
  {
   "cell_type": "code",
   "execution_count": null,
   "metadata": {},
   "outputs": [],
   "source": []
  },
  {
   "cell_type": "code",
   "execution_count": null,
   "metadata": {},
   "outputs": [],
   "source": []
  },
  {
   "cell_type": "code",
   "execution_count": null,
   "metadata": {},
   "outputs": [],
   "source": []
  },
  {
   "cell_type": "code",
   "execution_count": null,
   "metadata": {
    "scrolled": true
   },
   "outputs": [],
   "source": []
  },
  {
   "cell_type": "code",
   "execution_count": null,
   "metadata": {},
   "outputs": [],
   "source": []
  },
  {
   "cell_type": "code",
   "execution_count": null,
   "metadata": {},
   "outputs": [],
   "source": []
  },
  {
   "cell_type": "code",
   "execution_count": null,
   "metadata": {},
   "outputs": [],
   "source": []
  },
  {
   "cell_type": "code",
   "execution_count": null,
   "metadata": {},
   "outputs": [],
   "source": []
  },
  {
   "cell_type": "code",
   "execution_count": null,
   "metadata": {},
   "outputs": [],
   "source": []
  },
  {
   "cell_type": "code",
   "execution_count": null,
   "metadata": {},
   "outputs": [],
   "source": []
  },
  {
   "cell_type": "code",
   "execution_count": null,
   "metadata": {},
   "outputs": [],
   "source": []
  },
  {
   "cell_type": "code",
   "execution_count": null,
   "metadata": {},
   "outputs": [],
   "source": []
  },
  {
   "cell_type": "code",
   "execution_count": null,
   "metadata": {},
   "outputs": [],
   "source": []
  },
  {
   "cell_type": "code",
   "execution_count": null,
   "metadata": {},
   "outputs": [],
   "source": []
  },
  {
   "cell_type": "code",
   "execution_count": null,
   "metadata": {},
   "outputs": [],
   "source": []
  },
  {
   "cell_type": "code",
   "execution_count": null,
   "metadata": {},
   "outputs": [],
   "source": []
  },
  {
   "cell_type": "code",
   "execution_count": null,
   "metadata": {},
   "outputs": [],
   "source": []
  },
  {
   "cell_type": "code",
   "execution_count": null,
   "metadata": {},
   "outputs": [],
   "source": []
  },
  {
   "cell_type": "code",
   "execution_count": null,
   "metadata": {},
   "outputs": [],
   "source": []
  },
  {
   "cell_type": "code",
   "execution_count": null,
   "metadata": {},
   "outputs": [],
   "source": []
  },
  {
   "cell_type": "code",
   "execution_count": null,
   "metadata": {},
   "outputs": [],
   "source": []
  },
  {
   "cell_type": "code",
   "execution_count": null,
   "metadata": {},
   "outputs": [],
   "source": []
  },
  {
   "cell_type": "code",
   "execution_count": null,
   "metadata": {},
   "outputs": [],
   "source": []
  },
  {
   "cell_type": "code",
   "execution_count": null,
   "metadata": {},
   "outputs": [],
   "source": []
  },
  {
   "cell_type": "code",
   "execution_count": null,
   "metadata": {},
   "outputs": [],
   "source": []
  },
  {
   "cell_type": "code",
   "execution_count": null,
   "metadata": {},
   "outputs": [],
   "source": []
  },
  {
   "cell_type": "code",
   "execution_count": null,
   "metadata": {},
   "outputs": [],
   "source": []
  },
  {
   "cell_type": "code",
   "execution_count": null,
   "metadata": {},
   "outputs": [],
   "source": []
  },
  {
   "cell_type": "code",
   "execution_count": null,
   "metadata": {},
   "outputs": [],
   "source": []
  },
  {
   "cell_type": "code",
   "execution_count": null,
   "metadata": {},
   "outputs": [],
   "source": []
  },
  {
   "cell_type": "code",
   "execution_count": null,
   "metadata": {},
   "outputs": [],
   "source": []
  },
  {
   "cell_type": "code",
   "execution_count": null,
   "metadata": {},
   "outputs": [],
   "source": []
  },
  {
   "cell_type": "code",
   "execution_count": null,
   "metadata": {},
   "outputs": [],
   "source": []
  },
  {
   "cell_type": "code",
   "execution_count": null,
   "metadata": {},
   "outputs": [],
   "source": []
  },
  {
   "cell_type": "code",
   "execution_count": null,
   "metadata": {},
   "outputs": [],
   "source": []
  },
  {
   "cell_type": "code",
   "execution_count": null,
   "metadata": {},
   "outputs": [],
   "source": []
  },
  {
   "cell_type": "code",
   "execution_count": null,
   "metadata": {},
   "outputs": [],
   "source": []
  },
  {
   "cell_type": "code",
   "execution_count": null,
   "metadata": {},
   "outputs": [],
   "source": []
  },
  {
   "cell_type": "code",
   "execution_count": null,
   "metadata": {},
   "outputs": [],
   "source": []
  },
  {
   "cell_type": "code",
   "execution_count": null,
   "metadata": {},
   "outputs": [],
   "source": []
  },
  {
   "cell_type": "code",
   "execution_count": null,
   "metadata": {},
   "outputs": [],
   "source": []
  },
  {
   "cell_type": "code",
   "execution_count": null,
   "metadata": {},
   "outputs": [],
   "source": []
  },
  {
   "cell_type": "code",
   "execution_count": null,
   "metadata": {},
   "outputs": [],
   "source": []
  },
  {
   "cell_type": "code",
   "execution_count": null,
   "metadata": {},
   "outputs": [],
   "source": []
  },
  {
   "cell_type": "code",
   "execution_count": null,
   "metadata": {},
   "outputs": [],
   "source": []
  }
 ],
 "metadata": {
  "kernelspec": {
   "display_name": "Python 3",
   "language": "python",
   "name": "python3"
  },
  "language_info": {
   "codemirror_mode": {
    "name": "ipython",
    "version": 3
   },
   "file_extension": ".py",
   "mimetype": "text/x-python",
   "name": "python",
   "nbconvert_exporter": "python",
   "pygments_lexer": "ipython3",
   "version": "3.6.4"
  }
 },
 "nbformat": 4,
 "nbformat_minor": 2
}
